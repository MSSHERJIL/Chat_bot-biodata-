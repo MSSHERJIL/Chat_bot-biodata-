{
  "nbformat": 4,
  "nbformat_minor": 0,
  "metadata": {
    "colab": {
      "provenance": []
    },
    "kernelspec": {
      "name": "python3",
      "display_name": "Python 3"
    },
    "language_info": {
      "name": "python"
    }
  },
  "cells": [
    {
      "cell_type": "code",
      "execution_count": 1,
      "metadata": {
        "colab": {
          "base_uri": "https://localhost:8080/"
        },
        "id": "ap7L9kJfUy0v",
        "outputId": "c0e141d5-df97-42d5-8268-bf87b70bf40d"
      },
      "outputs": [
        {
          "name": "stdout",
          "output_type": "stream",
          "text": [
            "enter your prompt:name\n",
            "my name is ali\n",
            "enter your prompt:city\n",
            "karachi\n",
            "enter your prompt:country\n",
            "Pakistan\n",
            "enter your prompt:hello\n",
            "hello! may i hep you\n",
            "enter your prompt:qualification\n",
            "master\n",
            "enter your prompt:martial_status\n",
            "invalid\n",
            "enter your prompt:k\n",
            "invalid\n",
            "enter your prompt:exit\n"
          ]
        }
      ],
      "source": [
        "\n",
        "#Chatbot\n",
        "#Biodata\n",
        "\n",
        "\n",
        "while True:\n",
        "\n",
        "  user = input(\"enter your prompt:\")\n",
        "  if user == 'hello':\n",
        "    print (\"hello! may i hep you\")\n",
        "\n",
        "  elif user == \"name\":\n",
        "    print('my name is ali')\n",
        "\n",
        "  elif user == 'qualification':\n",
        "    print('master')\n",
        "\n",
        "  elif user == \"field\":\n",
        "      print('biology')\n",
        "  elif user == 'hobby':\n",
        "      print('cricket')\n",
        "\n",
        "  elif user == 'marital_status':\n",
        "      print('single')\n",
        "\n",
        "  elif user == 'religon':\n",
        "      print('muslim')\n",
        "\n",
        "  elif user == 'country':\n",
        "     print('Pakistan')\n",
        "\n",
        "  elif user == 'city':\n",
        "     print('karachi')\n",
        "  elif user== 'exit' or user =='quit':\n",
        "    break\n",
        "  else:\n",
        "    print('invalid')\n",
        "\n"
      ]
    }
  ]
}